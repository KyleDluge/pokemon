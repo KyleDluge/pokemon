{
 "cells": [
  {
   "cell_type": "code",
   "execution_count": 70,
   "metadata": {},
   "outputs": [
    {
     "name": "stdout",
     "output_type": "stream",
     "text": [
      "     #                     Name Type 1    Type 2   HP  Attack  Defense  \\\n",
      "0    3    VenusaurMega Venusaur  Grass    Poison   80     100      123   \n",
      "1  254    SceptileMega Sceptile  Grass    Dragon   70     110       75   \n",
      "2  460  AbomasnowMega Abomasnow  Grass       Ice   90     132      105   \n",
      "3  492        ShayminLand Forme  Grass       NaN  100     100      100   \n",
      "4  492         ShayminSky Forme  Grass    Flying  100     103       75   \n",
      "5  640                 Virizion  Grass  Fighting   91      90       72   \n",
      "\n",
      "   Sp. Atk  Sp. Def  Speed  Generation  Legendary  Total  \n",
      "0      122      120     80           1      False    625  \n",
      "1      145       85    145           3      False    630  \n",
      "2      132      105     30           4      False    594  \n",
      "3      100      100    100           4       True    600  \n",
      "4      120       75    127           4       True    600  \n",
      "5       90      129    108           5       True    580  \n"
     ]
    }
   ],
   "source": [
    "import pandas as pd\n",
    "\n",
    "df = pd.read_csv('pokemon_data.csv')\n",
    "df['Total'] = df.iloc[:, 4:10].sum(axis=1)\n",
    "df.columns\n",
    "fire = df.loc[df['Type 1'] == 'Fire']\n",
    "grass = df.loc[df['Type 1'] == 'Grass']\n",
    "psychic = df.loc[df['Type 1'] == 'Psychic']\n",
    "rock = df.loc[df['Type 1'] == 'Rock']\n",
    "x = df.loc[df['Attack']]\n",
    "y = df.loc[df['Defense']]\n",
    "\n",
    "new_df = df.loc[(df['Type 1'] == 'Grass') & (df['Total'] > 550)]\n",
    "new_df = new_df.reset_index(drop=True)\n",
    "new_df.to_csv(\"Strongest_Grass_Pokemon.csv\")\n",
    "print(new_df)\n"
   ]
  },
  {
   "cell_type": "code",
   "execution_count": null,
   "metadata": {},
   "outputs": [],
   "source": []
  },
  {
   "cell_type": "code",
   "execution_count": null,
   "metadata": {},
   "outputs": [],
   "source": []
  }
 ],
 "metadata": {
  "kernelspec": {
   "display_name": "Python 3",
   "language": "python",
   "name": "python3"
  },
  "language_info": {
   "codemirror_mode": {
    "name": "ipython",
    "version": 3
   },
   "file_extension": ".py",
   "mimetype": "text/x-python",
   "name": "python",
   "nbconvert_exporter": "python",
   "pygments_lexer": "ipython3",
   "version": "3.8.5"
  }
 },
 "nbformat": 4,
 "nbformat_minor": 4
}
